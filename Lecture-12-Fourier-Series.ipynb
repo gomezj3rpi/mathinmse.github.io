{
 "cells": [
  {
   "cell_type": "markdown",
   "metadata": {
    "slideshow": {
     "slide_type": "slide"
    }
   },
   "source": [
    "# Lecture 12:  Fourier Series"
   ]
  },
  {
   "cell_type": "markdown",
   "metadata": {
    "slideshow": {
     "slide_type": "skip"
    }
   },
   "source": [
    "## Reading and Reference\n",
    "\n",
    "* Essential Mathematical Methods for Physicists, H. Weber and G. Arfken, Academic Press, 2003\n",
    "* Advanced engineering Mathematics, E. Kreyszig, John wiley and Sons, 2010\n",
    "* Numerical Recipes, W. Press, Cambridge University Press, 1986\n",
    "* C. Hammond, The Basics of Crystallography and Diffraction, Oxford Science Publications, 4th ed.\n",
    "* B. Gustafsson, Fundamentals of Scientific Computing, Springer, 2011\n",
    "* S. Farlow, Partial Differential Equations for Scientists and Engineers, Dover, 1993\n",
    "\n",
    "## What to Learn?\n",
    "\n",
    "* A wave can be described by two parameters.\n",
    "* More complex functions can be constructed from combinations of individual waves.\n",
    "* Sines and cosines are basis vectors in Fourier space.\n",
    "* A generalized inner product of functions can be used to compute Fourier coefficients.\n",
    "\n",
    "\n",
    "\n",
    "## What to do?\n",
    "\n",
    "* Compute Fourier coefficients using the inner product of functions.\n",
    "* Learn how to shift the functions represented to arbitrary center points and domain widths.\n",
    "* Demonstrate that Fourier basis vectors are orthogonal.\n",
    "* Use a Fourier series to represent a sawtooth wave.\n",
    " "
   ]
  },
  {
   "cell_type": "markdown",
   "metadata": {
    "slideshow": {
     "slide_type": "slide"
    }
   },
   "source": [
    "### Introduction\n",
    "----\n",
    "\n",
    "A summation of sines and cosines can be used to approximate periodic functions.  The Fourier Series is one such series and is given by:\n",
    "\n",
    "$$\n",
    "f(x) = \\frac{a_0}{2} + \\sum_{n=1}^{\\infty} a_n cos(nx) + \\sum_{m=1}^{\\infty} b_m sin(mx)\n",
    "$$"
   ]
  },
  {
   "cell_type": "markdown",
   "metadata": {
    "slideshow": {
     "slide_type": "slide"
    }
   },
   "source": [
    "The coefficients are related to the original function by:\n",
    "\n",
    "$$\n",
    "a_n = \\frac{1}{\\pi} \\int^{2\\pi}_0 f(s) \\cos ns \\; ds, \\;\\; n = 0,1,2,...\n",
    "$$\n",
    "\n",
    "and\n",
    "\n",
    "$$\n",
    "b_m = \\frac{1}{\\pi} \\int^{2\\pi}_0 f(s) \\sin ms \\; ds, \\;\\; m = 1,2,...\n",
    "$$"
   ]
  },
  {
   "cell_type": "markdown",
   "metadata": {
    "slideshow": {
     "slide_type": "skip"
    }
   },
   "source": [
    "This series with coefficients determined by the integrals may be used in the solution of [ordinary differential](https://en.wikipedia.org/wiki/Ordinary_differential_equation) and [partial differential equations](https://en.wikipedia.org/wiki/Partial_differential_equation).  In materials engineering you will sometimes see diffusion problems use series solutions to describe the evolution of a concentration field where there is a factor composed of an infinite series and a factor containing an exponential in time.  Together they are selected to describe the diffusive evolution of a system.  A classic example of a [Fourier series](https://en.wikipedia.org/wiki/Fourier_series) in the solution to a diffusion problem is in Jackson and Hunt's paper on eutectic solidification.  In that paper the boundary condition was represented by a Fourier series to model the composition profile across eutectic lamellae."
   ]
  },
  {
   "cell_type": "markdown",
   "metadata": {
    "slideshow": {
     "slide_type": "slide"
    }
   },
   "source": [
    "### Representations of a Wave\n",
    "---\n",
    "\n",
    "A wave:\n",
    "\n",
    "*  is represented by a frequency and amplitude.\n",
    "*  is periodic on some domain, usually 0 to 2$\\pi$ but can also be $-\\pi$ to $\\pi$ or anything else.\n",
    "*  can be summed in combination with other waves to construct more complex functions."
   ]
  },
  {
   "cell_type": "code",
   "execution_count": null,
   "metadata": {
    "slideshow": {
     "slide_type": "skip"
    }
   },
   "outputs": [],
   "source": [
    "# Note the form of the import statements.  Keep the namespaces from colliding.\n",
    "%matplotlib inline\n",
    "import numpy as np\n",
    "import sympy as sp\n",
    "\n",
    "def plotSine(amplitude=2.4, frequency=np.pi/3.0, npoints=200):\n",
    "    \"\"\"\n",
    "    Plots a sine function with a user specified amplitude and frequency.\n",
    "    \n",
    "    Parameters\n",
    "    ----------\n",
    "    amplitude : amplitude of the sine wave.\n",
    "    \n",
    "    frequency : the frequency of the sine wave.\n",
    "    \n",
    "    npoints : the number of points to use when plotting the wave.\n",
    "    \n",
    "    Returns\n",
    "    -------\n",
    "    A plot.\n",
    "\n",
    "    \"\"\"\n",
    "\n",
    "    import matplotlib.pyplot as plt\n",
    "    import numpy as np\n",
    "\n",
    "    t = np.linspace(0, 2*np.pi, npoints)\n",
    "    f = amplitude*np.sin(2*np.pi*frequency*t)\n",
    "    fname = r\"$A(t) = A \\sin(2 \\pi f t)$\"\n",
    "    \n",
    "    fig, ax = plt.subplots()\n",
    "    ax.plot(t, f, label=fname)\n",
    "    ax.legend(loc='upper right')\n",
    "    ax.set_xlabel(r'$t$', fontsize=18)\n",
    "    ax.set_ylabel(r'$A$', fontsize=18)\n",
    "    ax.set_title('A Sine Wave');\n",
    "    \n",
    "    plt.show()\n",
    "\n",
    "    return"
   ]
  },
  {
   "cell_type": "code",
   "execution_count": null,
   "metadata": {
    "slideshow": {
     "slide_type": "slide"
    }
   },
   "outputs": [],
   "source": [
    "plotSine()"
   ]
  },
  {
   "cell_type": "markdown",
   "metadata": {
    "slideshow": {
     "slide_type": "slide"
    }
   },
   "source": [
    "All the properties of the wave are specified with these three pieces of information:\n",
    "\n",
    "* It is a sine wave\n",
    "* It has amplitude 2.4\n",
    "* It has frequency $\\pi$/3"
   ]
  },
  {
   "cell_type": "markdown",
   "metadata": {
    "slideshow": {
     "slide_type": "skip"
    }
   },
   "source": [
    "In the previous plot we know that the frequency of $2\\pi/3$ and coefficient (amplitue) of $2.4$ were linked through the `sin` function.  So it isn't hard to extrapolate to a situation where we might have MANY functions each with their own amplitude.  We could also imagine having many `sin` functions each with a different frequency - so let us make a list of amplitudes and frequencies (numerically) that we can use for plotting.  The following histogram plots the amplitudes for each frequency."
   ]
  },
  {
   "cell_type": "code",
   "execution_count": null,
   "metadata": {
    "slideshow": {
     "slide_type": "slide"
    }
   },
   "outputs": [],
   "source": [
    "def plotPower(amplitudes=[0,0,1.0,2.0,0,0,0], period=2.0*np.pi, npoints=200):\n",
    "    \"\"\"\n",
    "    Plots a power series and the associated function assuming that the amplitudes\n",
    "    provided are equally divided over the period of 2\\pi unless specified.  Can also \n",
    "    change the number of points to represent the function if necessary.\n",
    "    \"\"\"\n",
    "    import matplotlib.pyplot as plt\n",
    "    import numpy as np\n",
    "   \n",
    "    fig, ax = plt.subplots(nrows=1, ncols=2, figsize=(12,5))\n",
    "    fig.subplots_adjust(bottom=0.2)\n",
    "\n",
    "    frequencies = np.linspace(0, period, len(amplitudes))\n",
    "    t = np.linspace(0, period, npoints)\n",
    "    \n",
    "    # Reminder: zip([1,2,3],[4,5,6]) --> [(1,4),(2,5),(3,6)]\n",
    "    f = sum([amplitude*np.sin(2*np.pi*frequency*t) for (amplitude, frequency) in zip(amplitudes, frequencies)])\n",
    "    \n",
    "    ax[0].bar(frequencies, amplitudes)\n",
    "    ax[0].set_xlabel(r'$f$', fontsize=12)\n",
    "    ax[0].set_ylabel(r'$A$', fontsize=12)\n",
    "    ax[0].set_title(r'Power Spectrum')\n",
    "    \n",
    "    ax[1].plot(t, f)\n",
    "    ax[1].set_xlabel(r'$f$', fontsize=12)\n",
    "    ax[1].set_ylabel(r'$A$', fontsize=12)\n",
    "    ax[1].set_title(r'Constructed Function')\n",
    "    \n",
    "    plt.show()\n",
    "    \n",
    "    return"
   ]
  },
  {
   "cell_type": "code",
   "execution_count": null,
   "metadata": {
    "slideshow": {
     "slide_type": "slide"
    }
   },
   "outputs": [],
   "source": [
    "plotPower()"
   ]
  },
  {
   "cell_type": "markdown",
   "metadata": {
    "slideshow": {
     "slide_type": "skip"
    }
   },
   "source": [
    "The plot above is one common way of visualizing the amplitudes of each term in a series.  Each bar represents the amplitude of a particular frequency in the reconstructed function."
   ]
  },
  {
   "cell_type": "markdown",
   "metadata": {
    "slideshow": {
     "slide_type": "slide"
    }
   },
   "source": [
    "### A Vector Space and Dot Products\n",
    "----\n",
    "\n",
    "A vector is an element of a _vector space_.  A vector space is the set of all vectors having dimension N.  \n",
    "\n",
    "We are introduced to the Euclidian vectors $\\hat{i}$, $\\hat{j}$, and $\\hat{k}$ in physical problems and we gain a physical intuition for orthogonality.  We also learn a mechanism for computing the [dot product](https://en.wikipedia.org/wiki/Dot_product) in Euclidian systems, but other generalizations are possible.  One such generalization is the dot product of functions.\n",
    "\n",
    "This dot product of functions can be used to determine Fourier coefficients."
   ]
  },
  {
   "cell_type": "code",
   "execution_count": null,
   "metadata": {
    "slideshow": {
     "slide_type": "slide"
    }
   },
   "outputs": [],
   "source": [
    "t = sp.symbols('t')\n",
    "sp.init_printing()\n",
    "\n",
    "def signal(x):\n",
    "    return (x*(2 - x)*(1 - x)**2)"
   ]
  },
  {
   "cell_type": "code",
   "execution_count": null,
   "metadata": {
    "slideshow": {
     "slide_type": "slide"
    }
   },
   "outputs": [],
   "source": [
    "sp.plot(signal(t), (t,0,2));"
   ]
  },
  {
   "cell_type": "markdown",
   "metadata": {
    "slideshow": {
     "slide_type": "slide"
    }
   },
   "source": [
    "Is there a way to approximate the function above?  For real functions, the dot product can be generalized by the inner product, defined as:\n",
    "\n",
    "$$ < f(x) | g(x) > = \\int_{-L}^{L} f(x) g(x) dx $$\n",
    "\n",
    "If this quantity is zero, then the functions are orthogonal. If the functions are orthogonal then they form a function space and can be used to approximate other functions."
   ]
  },
  {
   "cell_type": "markdown",
   "metadata": {
    "slideshow": {
     "slide_type": "skip"
    }
   },
   "source": [
    "The dot product for vectors v and w in Euclidian space has a geometric interpretation:\n",
    "\n",
    "$$\n",
    "\\mathbf{v} \\cdot \\mathbf{w} = |v||w| \\cos{\\theta}\n",
    "$$\n",
    "\n",
    "This scalar quantity tells you how much of the vector v points along w, i.e., the magnitude of a vector pointing in the direction of $\\hat{v}$ you need to add to some other (mutually orthogonal) vectors in order to reproduce w as a summation. When generalized to functions we write:\n",
    "\n",
    "$$ \n",
    "< f(x) | g(x) > = \\int_{-L}^{L} f(x) g(x) dx \n",
    "$$\n",
    "\n",
    "This computes how much of function $f(x)$ is projected onto $g(x)$.  Using a point $x = a$, compute $f(a)$ and $g(a)$. $f(a)$ and $g(a)$ represent the height of each function above/below the x-axis, so a vector from (a, 0) to (a, f(a)) can be dotted with a vector from (a, 0) to (a, g(a)). They are necessarily parallel along the space that contains the x-axis, so their dot product is just the product of their magnitudes:  $f(a)$ times $g(a)$. Now, multiply this by dx to keep the contribution from position $x=a$ proportional to how many additional x-positions you'll do this for. Take this dot product over and over, at each x-position, always scaling by $dx$ to keep it all in proportion. The sum of these dot products is the projection of $f(x)$ onto $g(x)$ (or vice-versa)."
   ]
  },
  {
   "cell_type": "markdown",
   "metadata": {
    "slideshow": {
     "slide_type": "slide"
    }
   },
   "source": [
    "### Interactive Visualization of the Dot Product of Functions\n",
    "----"
   ]
  },
  {
   "cell_type": "code",
   "execution_count": null,
   "metadata": {
    "slideshow": {
     "slide_type": "skip"
    }
   },
   "outputs": [],
   "source": [
    "import matplotlib as mpl\n",
    "import matplotlib.pyplot as plt\n",
    "from ipywidgets import interact, fixed\n",
    "\n",
    "# Somehow we want to add this text to the plot...\n",
    "# dot_prod_value = sp.integrate(sp.sin(2*x)*sp.sin(x), (x, 0, 2*sp.pi))\n",
    "\n",
    "def npf(x):\n",
    "    return np.sin(2*x)\n",
    "\n",
    "def npg(x):\n",
    "    return np.sin(x)\n",
    "\n",
    "def spf(x):\n",
    "    return sp.sin(2*x)\n",
    "\n",
    "def spg(x):\n",
    "    return sp.sin(x)\n",
    "\n",
    "# Make ff and gg tuples of np/sp functions? - or we can lambdafy the sp functions.\n",
    "def myfig(ff,gg,a):\n",
    "    \"\"\"\n",
    "    This function's docstring explaining the function.\n",
    "    \"\"\"\n",
    "    x = np.linspace(0, 2*np.pi, 100)\n",
    "    y1 = ff(x)\n",
    "    y2 = gg(x)\n",
    "    y3 = ff(x)*gg(x)\n",
    "    fig = plt.figure(figsize=(8,5))\n",
    "    axes = fig.add_axes([0.1, 0.1, 0.8, 0.8])\n",
    "    axes.plot(x, y1, 'r', label=r\"$f(x)$\")\n",
    "    axes.arrow(a, 0, 0, ff(a), length_includes_head=True, head_length=0.1, head_width=0.1, color='r')\n",
    "    axes.plot(x, y2, 'g', label=r\"$g(x)$\")\n",
    "    axes.arrow(a, 0, 0, gg(a), length_includes_head=True, head_length=0.1, head_width=0.1, color='g')\n",
    "    axes.plot(x, y3, 'b', label=r\"$f(x) \\cdot g(x)$\")\n",
    "    axes.arrow(a, 0, 0, ff(a)*gg(a), length_includes_head=True, head_length=0.1, head_width=0.1, color='b')\n",
    "    axes.legend()\n",
    "    axes.grid(True)\n",
    "    plt.show()\n",
    "    return"
   ]
  },
  {
   "cell_type": "code",
   "execution_count": null,
   "metadata": {
    "slideshow": {
     "slide_type": "fragment"
    }
   },
   "outputs": [],
   "source": [
    "interact(myfig, ff=fixed(npf), gg=fixed(npg), a=(0,np.pi*2,0.05))"
   ]
  },
  {
   "cell_type": "markdown",
   "metadata": {
    "slideshow": {
     "slide_type": "skip"
    }
   },
   "source": [
    "Using `scipy` we can perform this and other integrations numerically.  Two examples are given for the following functions:"
   ]
  },
  {
   "cell_type": "code",
   "execution_count": null,
   "metadata": {
    "slideshow": {
     "slide_type": "slide"
    }
   },
   "outputs": [],
   "source": [
    "from scipy import integrate\n",
    "import numpy as np\n",
    "\n",
    "def myfunc1(x):\n",
    "    return np.sin(4*x)\n",
    "\n",
    "def myfunc2(x):\n",
    "    return np.sin(x)\n",
    "\n",
    "def myfunc3(x):\n",
    "    return myfunc1(x)*myfunc2(x)\n",
    "\n",
    "def myfuncx2(x):\n",
    "    return x**2"
   ]
  },
  {
   "cell_type": "code",
   "execution_count": null,
   "metadata": {
    "slideshow": {
     "slide_type": "slide"
    }
   },
   "outputs": [],
   "source": [
    "[integrate.quad(myfuncx2, 0, 4), 4.0**3/3.0]"
   ]
  },
  {
   "cell_type": "code",
   "execution_count": null,
   "metadata": {
    "slideshow": {
     "slide_type": "slide"
    }
   },
   "outputs": [],
   "source": [
    "integrate.quad(myfunc3, 0, 2*np.pi)"
   ]
  },
  {
   "cell_type": "code",
   "execution_count": null,
   "metadata": {
    "slideshow": {
     "slide_type": "slide"
    }
   },
   "outputs": [],
   "source": [
    "import sympy as sp\n",
    "sp.init_printing()\n",
    "\n",
    "n, m = sp.symbols('n m', Integer=True)\n",
    "x = sp.symbols('x')\n",
    "\n",
    "def f(x):\n",
    "    return sp.sin(n*x)\n",
    "\n",
    "def g(x):\n",
    "    return sp.sin(m*x)\n",
    "\n",
    "# scope of variables in def is local.\n",
    "def func_dot(f, g, lb, ub):\n",
    "    return sp.integrate(f(x)*g(x), (x, lb, ub))\n",
    "\n",
    "func_dot(f, g, 0, 2*sp.pi)"
   ]
  },
  {
   "cell_type": "markdown",
   "metadata": {
    "slideshow": {
     "slide_type": "slide"
    }
   },
   "source": [
    "### DIY:  Demonstrate the Inner Product of Certain Functions are Zero\n",
    "----\n",
    "\n",
    "Identify the conditions under which the inner product of:\n",
    "\n",
    "$$\n",
    "<\\sin{4x}, \\sin{x}>\n",
    "$$\n",
    "\n",
    "and \n",
    "\n",
    "$$\n",
    "<\\sin{nx}, \\sin{mx}>\n",
    "$$\n",
    "\n",
    "are zero."
   ]
  },
  {
   "cell_type": "markdown",
   "metadata": {
    "slideshow": {
     "slide_type": "slide"
    }
   },
   "source": [
    "### The Fourier Series Definied on Arbitrary Ranges\n",
    "\n",
    "This discussion is derived from Sean Mauch's open source Applied Mathematics textbook.  If $f(x)$ is defined over $c-L \\leq x \\leq c+L $ and $f(x+2L) = f(x)$ then $f(x)$ can be written as:\n",
    "\n",
    "$$\n",
    "f(x) = \\frac{a_0}{2} + \\sum_{n=1}^{\\infty} a_n cos \\left( \\frac{n \\pi (x+c)}{L} \\right) + \\sum_{m=1}^{\\infty} b_m sin \\left( \\frac{m \\pi (x+c)}{L} \\right)\n",
    "$$\n",
    "\n",
    "and the coefficients:\n",
    "\n",
    "$$ a_n = \\langle f(x) | \\cos \\left( \\frac{n\\pi (x+c)}{L} \\right) \\rangle = \\frac{1}{L}\\int^{c+L}_{c-L} f(x) \\cos \\frac{n \\pi (x+c)}{L} $$\n",
    "\n",
    "and\n",
    "\n",
    "$$ b_m = \\langle f(x) | \\sin \\left( \\frac{m\\pi (x+c)}{L} \\right) \\rangle = \\frac{1}{L}\\int^{c+L}_{c-L} f(x) \\sin \\frac{m \\pi (x+c)}{L} $$\n",
    "\n",
    "Using our generalized dot product for functions as defined above we can compute the Fourier coefficients.  The code for this follows in functions `a_n_amplitudes` and `b_m_amplitudes`."
   ]
  },
  {
   "cell_type": "markdown",
   "metadata": {
    "slideshow": {
     "slide_type": "slide"
    }
   },
   "source": [
    "### Computing the Fourier Coefficients by Hand\n",
    "----\n",
    "\n",
    "Note:  These next couple of cells take a few seconds to run."
   ]
  },
  {
   "cell_type": "code",
   "execution_count": null,
   "metadata": {
    "slideshow": {
     "slide_type": "slide"
    }
   },
   "outputs": [],
   "source": [
    "import sympy as sp\n",
    "import numpy as np\n",
    "\n",
    "x = sp.symbols('x')\n",
    "dum = sp.symbols('dum')\n",
    "sp.init_printing()\n",
    "\n",
    "lam = 2\n",
    "center = 1\n",
    "\n",
    "def signal(x):\n",
    "    return (x*(2 - x)*(1 - x)**2)\n",
    "\n",
    "def mySpecialFunction(x):\n",
    "    return sp.sin(2*x)\n",
    "\n",
    "def b_m_amplitudes(n, funToProject, center, lam):\n",
    "    return (2/lam)*sp.integrate(funToProject(dum)*sp.sin(2*n*sp.pi*dum/lam), (dum,center-lam/2,center+lam/2))\n",
    "\n",
    "def a_n_amplitudes(m, funToProject, center, lam):\n",
    "    return (2/lam)*sp.integrate(funToProject(dum)*sp.cos(2*m*sp.pi*dum/lam), (dum,center-lam/2,center+lam/2))\n",
    "\n",
    "def b_m_vectorspace_element(n, var, lam):\n",
    "    return sp.sin(2*n*sp.pi*var/lam)\n",
    "\n",
    "def a_n_vectorspace_element(m, var, lam):\n",
    "    if m==0:\n",
    "        return sp.Rational(1,2)\n",
    "    elif m!=0:\n",
    "        return sp.cos(2*m*sp.pi*var/lam)"
   ]
  },
  {
   "cell_type": "code",
   "execution_count": null,
   "metadata": {
    "slideshow": {
     "slide_type": "slide"
    }
   },
   "outputs": [],
   "source": [
    "terms = 3\n",
    "funToProject = signal\n",
    "\n",
    "an_vectors = [a_n_vectorspace_element(n, x, lam) for n in range(terms)]\n",
    "an_amplitudes = [a_n_amplitudes(n, funToProject, center, lam) for n in range(terms)]\n",
    "bm_vectors = [b_m_vectorspace_element(m, x, lam) for m in range(terms)]\n",
    "bm_amplitudes = [b_m_amplitudes(m, funToProject, center, lam) for m in range(terms)]"
   ]
  },
  {
   "cell_type": "markdown",
   "metadata": {
    "slideshow": {
     "slide_type": "skip"
    }
   },
   "source": [
    "We use a list comprehension to collect the basis vectors and amplitudes into a useful data structure through the `zip` function."
   ]
  },
  {
   "cell_type": "code",
   "execution_count": null,
   "metadata": {
    "slideshow": {
     "slide_type": "slide"
    }
   },
   "outputs": [],
   "source": [
    "truncatedSeries = (sum([a*b for a,b in zip(an_vectors,an_amplitudes)]) \n",
    "                   + sum([c*d for c,d in zip(bm_vectors,bm_amplitudes)]))\n",
    "truncatedSeries"
   ]
  },
  {
   "cell_type": "markdown",
   "metadata": {},
   "source": [
    "We can now plot this series and see the comparison of the signal (blue) and the series representation (red).  We can quantitatively describe the accuracy between the approximation and the function."
   ]
  },
  {
   "cell_type": "code",
   "execution_count": null,
   "metadata": {},
   "outputs": [],
   "source": [
    "p = sp.plot(signal(x), truncatedSeries, (x, 0, 2), show=False, title=r'Comparison of Series (Red) and Function (Blue)')\n",
    "p[0].line_color = 'blue'\n",
    "p[1].line_color = 'red'\n",
    "p.show()"
   ]
  },
  {
   "cell_type": "markdown",
   "metadata": {},
   "source": [
    "It is also possible to unpack the series above and look at the plot of each individual term's contribution to the approximate function."
   ]
  },
  {
   "cell_type": "code",
   "execution_count": null,
   "metadata": {},
   "outputs": [],
   "source": [
    "test = [c*d for c,d in zip(an_vectors,an_amplitudes)]\n",
    "\n",
    "p2 = sp.plot(test[0],(x,0,2), show=False)\n",
    "\n",
    "#[p2.append(sp.plot(test[i], (x,0,2), show=False)[0]) for i in range(1,5,1)]\n",
    "\n",
    "[p2.append(sp.plot(i, (x,0,2), show=False)[0]) for i in test]\n",
    "\n",
    "for i in range(1,terms,1):\n",
    "    #p = sp.plot(test[i], (x,0,2), show=False)\n",
    "    #p2.append(p[0])\n",
    "    p2[i].line_color = 1.0-i/5.0,i/5.0,0.3\n",
    "\n",
    "[p2.append(sp.plot(test[i], (x,0,2), show=False)[0])]\n",
    "    \n",
    "p2.show()"
   ]
  },
  {
   "cell_type": "markdown",
   "metadata": {
    "slideshow": {
     "slide_type": "slide"
    }
   },
   "source": [
    "### Computing the Fourier Coefficients using Sympy\n",
    "----\n",
    "\n",
    "Here we use `sympy`'s `fourier_series` function to build a truncated series. We plot the series so that you can explore what happens when you change the number of terms.  The `interact` command creates a widget you can use to explore the effect of changing the nubmer of terms."
   ]
  },
  {
   "cell_type": "code",
   "execution_count": null,
   "metadata": {
    "slideshow": {
     "slide_type": "slide"
    }
   },
   "outputs": [],
   "source": [
    "import sympy as sp\n",
    "import matplotlib.pyplot as plt\n",
    "from ipywidgets import interact, fixed"
   ]
  },
  {
   "cell_type": "code",
   "execution_count": null,
   "metadata": {
    "slideshow": {
     "slide_type": "fragment"
    }
   },
   "outputs": [],
   "source": [
    "sp.fourier_series(x**2)"
   ]
  },
  {
   "cell_type": "code",
   "execution_count": null,
   "metadata": {
    "slideshow": {
     "slide_type": "skip"
    }
   },
   "outputs": [],
   "source": [
    "sp.init_printing()\n",
    "\n",
    "x = sp.symbols('x')\n",
    "\n",
    "def myAwesomeFunction(a):\n",
    "    return a\n",
    "\n",
    "def fsMyFunc(terms, var):\n",
    "    return sp.fourier_series(myAwesomeFunction(var), (var, -sp.pi, sp.pi)).truncate(n=terms)\n",
    "\n",
    "def plotMyFunc(terms):\n",
    "    p1 = sp.plot(fsMyFunc(terms,x),(x,-sp.pi, sp.pi), show=False, line_color='r')\n",
    "    p2 = sp.plot(myAwesomeFunction(x), (x,-sp.pi,sp.pi), show=False, line_color='b') \n",
    "    p2.append(p1[0])\n",
    "    p2.show()\n",
    "    return None\n",
    "\n",
    "plt.rcParams['lines.linewidth'] = 3\n",
    "plt.rcParams['figure.figsize'] = 8, 6"
   ]
  },
  {
   "cell_type": "code",
   "execution_count": null,
   "metadata": {
    "slideshow": {
     "slide_type": "slide"
    }
   },
   "outputs": [],
   "source": [
    "interact(plotMyFunc, terms=(1,10,1));"
   ]
  },
  {
   "cell_type": "markdown",
   "metadata": {
    "slideshow": {
     "slide_type": "slide"
    }
   },
   "source": [
    "### DIY:  Series for a Sawtooth Wave \n",
    "----\n",
    "\n",
    "Using a Fourier series, represent the following periodic function:\n",
    "\n",
    "$$f(x) = \\left\\{ \n",
    "\\begin{array}{ll}\n",
    " x, & 0 \\leq x \\leq \\pi, \\\\\n",
    " x-2\\pi, & \\pi \\leq x \\leq 2\\pi,\n",
    "\\end{array}\n",
    "\\right.$$"
   ]
  },
  {
   "cell_type": "markdown",
   "metadata": {},
   "source": [
    "### DIY:  Compute Your Own\n",
    "----\n",
    "\n",
    "Compute a Fourier series for a function of your choosing.  Think about the restrictions on the use of the Fourier series."
   ]
  }
 ],
 "metadata": {
  "anaconda-cloud": {},
  "celltoolbar": "Slideshow",
  "kernelspec": {
   "display_name": "Python 3",
   "language": "python",
   "name": "python3"
  },
  "language_info": {
   "codemirror_mode": {
    "name": "ipython",
    "version": 3
   },
   "file_extension": ".py",
   "mimetype": "text/x-python",
   "name": "python",
   "nbconvert_exporter": "python",
   "pygments_lexer": "ipython3",
   "version": "3.7.6"
  }
 },
 "nbformat": 4,
 "nbformat_minor": 2
}
