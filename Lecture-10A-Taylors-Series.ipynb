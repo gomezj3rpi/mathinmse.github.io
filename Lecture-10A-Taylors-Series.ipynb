{
 "cells": [
  {
   "cell_type": "markdown",
   "metadata": {},
   "source": [
    "## In-Class Demonstration and Visualization"
   ]
  },
  {
   "cell_type": "code",
   "execution_count": 2,
   "metadata": {},
   "outputs": [],
   "source": [
    "%matplotlib inline\n",
    "import numpy as np\n",
    "import sympy as sp\n",
    "import matplotlib.pyplot as plt"
   ]
  },
  {
   "cell_type": "code",
   "execution_count": 2,
   "metadata": {},
   "outputs": [],
   "source": [
    "# You can change the default figure size to be a bit larger if you want,\n",
    "# uncomment the next line for that:\n",
    "#plt.rc('figure', figsize=(10, 6))"
   ]
  },
  {
   "cell_type": "markdown",
   "metadata": {},
   "source": [
    "The function `plot_taylor_approximations` included here was written by Fernando Perez and was part of work on the original `IPython` project.  Although attribution seems to have been lost over time, we gratefully acknowledge FP and thank him for this code!"
   ]
  },
  {
   "cell_type": "code",
   "execution_count": 3,
   "metadata": {},
   "outputs": [],
   "source": [
    "def plot_taylor_approximations(func, x0=None, orders=(2, 4), xrange=(0,1), yrange=None, npts=200):\n",
    "    \"\"\"Plot the Taylor series approximations to a function at various orders.\n",
    "\n",
    "    Parameters\n",
    "    ----------\n",
    "    func : a sympy function\n",
    "    x0 : float\n",
    "      Origin of the Taylor series expansion.  If not given, x0=xrange[0].\n",
    "    orders : list\n",
    "      List of integers with the orders of Taylor series to show.  Default is (2, 4).\n",
    "    xrange : 2-tuple or array.\n",
    "      Either an (xmin, xmax) tuple indicating the x range for the plot (default is (0, 1)),\n",
    "      or the actual array of values to use.\n",
    "    yrange : 2-tuple\n",
    "      (ymin, ymax) tuple indicating the y range for the plot.  If not given,\n",
    "      the full range of values will be automatically used. \n",
    "    npts : int\n",
    "      Number of points to sample the x range with.  Default is 200.\n",
    "    \"\"\"\n",
    "    if not callable(func):\n",
    "        raise ValueError('func must be callable')\n",
    "    if isinstance(xrange, (list, tuple)):\n",
    "        x = np.linspace(float(xrange[0]), float(xrange[1]), npts)\n",
    "    else:\n",
    "        x = xrange\n",
    "    if x0 is None: x0 = x[0]\n",
    "    xs = sp.Symbol('x')\n",
    "    # Make a numpy-callable form of the original function for plotting\n",
    "    fx = func(xs)\n",
    "    f = sp.lambdify(xs, fx, modules=['numpy'])\n",
    "    # We could use latex(fx) instead of str(), but matploblib gets confused\n",
    "    # with some of the (valid) latex constructs sympy emits.  So we play it safe.\n",
    "    plt.plot(x, f(x), label=str(fx), lw=2)\n",
    "    # Build the Taylor approximations, plotting as we go\n",
    "    apps = {}\n",
    "    for order in orders:\n",
    "        app = fx.series(xs, x0, n=order).removeO()\n",
    "        apps[order] = app\n",
    "        # Must be careful here: if the approximation is a constant, we can't\n",
    "        # blindly use lambdify as it won't do the right thing.  In that case, \n",
    "        # evaluate the number as a float and fill the y array with that value.\n",
    "        if isinstance(app, sp.numbers.Number):\n",
    "            y = np.zeros_like(x)\n",
    "            y.fill(app.evalf())\n",
    "        else:\n",
    "            fa = sp.lambdify(xs, app, modules=['numpy'])\n",
    "            y = fa(x)\n",
    "        tex = sp.latex(app).replace('$', '')\n",
    "        plt.plot(x, y, label=r'$n=%s:\\, %s$' % (order, tex) )\n",
    "        \n",
    "    # Plot refinements\n",
    "    if yrange is not None:\n",
    "        plt.ylim(*yrange)\n",
    "    plt.grid()\n",
    "    plt.legend(loc='best').get_frame().set_alpha(0.8)\n",
    "    \n",
    "# For an expression made from elementary functions, we must first make it into\n",
    "# a callable function, the simplest way is to use the Python lambda construct.\n",
    "# plot_taylor_approximations(lambda x: 1/sp.cos(x), 0, [2,4,6,8], (0, 2*sp.pi), (-5,5))"
   ]
  },
  {
   "cell_type": "code",
   "execution_count": 4,
   "metadata": {},
   "outputs": [
    {
     "data": {
      "image/png": "[encoded data removed]",
      "text/plain": [
       "<Figure size 432x288 with 1 Axes>"
      ]
     },
     "metadata": {
      "needs_background": "light"
     },
     "output_type": "display_data"
    }
   ],
   "source": [
    "plot_taylor_approximations(sp.sin, 0, [2, 4, 6, 8], (0, 2*sp.pi), (-2,2))"
   ]
  },
  {
   "cell_type": "markdown",
   "metadata": {},
   "source": [
    "# Lecture 10:  Taylor's Series and Discrete Calculus"
   ]
  },
  {
   "cell_type": "markdown",
   "metadata": {},
   "source": [
    "## Reading and Reference\n",
    "\n",
    "* Essential Mathematical Methods for Physicists, H. Weber and G. Arfken, Academic Press, 2003\n",
    "* Advanced engineering Mathematics, E. Kreyszig, John wiley and Sons, 2010\n",
    "* Numerical Recipes, W. Press, Cambridge University Press, 1986\n",
    "* Numerical Methods, R. Hornbeck, Quantum Publishers, 1975\n",
    "\n",
    "\n",
    "## What to Learn?\n",
    "\n",
    "* Definition of an infinite series and power series\n",
    "* Identify the Taylor series\n",
    "* How to derive the central and forward difference formulae from Taylor's series\n",
    "* Learn the SymPy functions to compute series\n",
    "* Learn how to represent discrete data as a matrix\n",
    "\n",
    "## What to Do?\n",
    "\n",
    "* Derive Taylor's series\n",
    "* Use SymPy functions to produce series representations\n",
    "* Compute numerical derivatives using data provided\n",
    "* Advanced Challenge:  Vectorize the numerical derivative calculations"
   ]
  },
  {
   "cell_type": "markdown",
   "metadata": {},
   "source": [
    "### Introduction\n",
    "----\n",
    "\n",
    "It is common in physics and engineering to represent transcendental functions and other nonlinear expressions using a few terms from a Taylor series.  This series provides a fast and efficient way to compute quantities such as $\\mathrm{sin}(x)$ or $e^x$ to a prescribed error.  Learning how to calculate the series representation of these functions will provide practical experience with the Taylor series and help the student understand the results of Python methods designed to accelerate and simplify computations.  The series can be written generally as:\n",
    "\n",
    "$$f(x) = f{\\left (0 \\right )} + x \\left. \\frac{d}{d x} f{\\left (x \\right )} \\right|_{\\substack{ x=0 }} + \\frac{x^{2}}{2} \\left. \\frac{d^{2}}{d x^{2}}  f{\\left (x \\right )} \\right|_{\\substack{ x=0 }} + \\frac{x^{3}}{6} \\left. \\frac{d^{3}}{d x^{3}}  f{\\left (x \\right )} \\right|_{\\substack{ x=0 }} + \\frac{x^{4}}{24} \\left. \\frac{d^{4}}{d x^{4}}  f{\\left (x \\right )} \\right|_{\\substack{ x=0 }} + \\frac{x^{5}}{120} \\left. \\frac{d^{5}}{d x^{5}}  f{\\left (x \\right )} \\right|_{\\substack{ x=0 }} + \\mathcal{O}\\left(x^{6}\\right)$$\n",
    "\n",
    "Of equal importance the Taylor series permits discrete representation of derivatives and is a common way to perform numerical integration of partial and ordinary differential equations.  Expansion of a general function $f(x)$ about a point, coupled with algebraic manipulation, will produce expressions that can be used to approximate derivative quantities.  Although any order of derivative can be computed, this lesson will focus on first and second derivatives that will be encountered in the diffusion equation."
   ]
  },
  {
   "cell_type": "markdown",
   "metadata": {},
   "source": [
    "### Infinite Sequences\n",
    "----\n",
    "\n",
    "Ideas relating to sequences, series, and power series are used in the formulation of integral calculus and in the construction of polynomial representations of functions.  The limit of functions will also be investigated as boundary conditions for differential equations.  For this reason understanding concepts related to sequences and series are important to review.   \n",
    "\n",
    "A sequence is an ordered list of numbers.  A list such as the following represents a sequence:\n",
    "\n",
    "$$a_1, a_2, a_3, a_4, \\dots, a_n, \\dots $$\n",
    "\n",
    "The sequence maps one value $a_n$ for every integer $n$.  It is typical to provide a formula for construction of the nth term in the sequence.  While _ad-hoc_ strategies could be used to develop sequences using SymPy and lists in Python, SymPy has a sequence class that can be used.  A short demonstration is provided next:"
   ]
  },
  {
   "cell_type": "code",
   "execution_count": 5,
   "metadata": {},
   "outputs": [],
   "source": [
    "import sympy as sp\n",
    "#from __future__ import division\n",
    "x, y, z, t, a = sp.symbols('x y z t a')\n",
    "k, m, n = sp.symbols('k m n', integer=True)\n",
    "f, g, h = sp.symbols('f g h', cls=sp.Function)\n",
    "sp.var('a1:6')\n",
    "sp.init_printing()"
   ]
  },
  {
   "cell_type": "markdown",
   "metadata": {},
   "source": [
    "It is important to read about `SymPy` symbols at this time."
   ]
  },
  {
   "cell_type": "markdown",
   "metadata": {},
   "source": [
    "We can generate a sequence using `SeqFormula`."
   ]
  },
  {
   "cell_type": "code",
   "execution_count": 7,
   "metadata": {},
   "outputs": [
    {
     "data": {
      "image/png": "[encoded data removed]",
      "text/latex": [
       "$\\displaystyle \\left[ 0, \\  1, \\  4, \\  9, \\  16, \\  25\\right]$"
      ],
      "text/plain": [
       "[0, 1, 4, 9, 16, 25]"
      ]
     },
     "execution_count": 7,
     "metadata": {},
     "output_type": "execute_result"
    }
   ],
   "source": [
    "a1 = sp.SeqFormula(n**2, (n,0,5))\n",
    "list(a1)"
   ]
  },
  {
   "cell_type": "markdown",
   "metadata": {},
   "source": [
    "if we want the limit of the sequence at infinity:\n",
    "\n",
    "$$[0, 1, 4, 9, \\ldots ]$$\n",
    "\n",
    "we can use `limit_seq`:"
   ]
  },
  {
   "cell_type": "code",
   "execution_count": 8,
   "metadata": {
    "scrolled": true
   },
   "outputs": [
    {
     "data": {
      "image/png": "[encoded data removed]",
      "text/latex": [
       "$\\displaystyle \\infty$"
      ],
      "text/plain": [
       "∞"
      ]
     },
     "execution_count": 8,
     "metadata": {},
     "output_type": "execute_result"
    }
   ],
   "source": [
    "sp.limit_seq(a1.formula, n)"
   ]
  },
  {
   "cell_type": "markdown",
   "metadata": {},
   "source": [
    "### DIY:  Determine if the following sequences are convergent or divergent.  If convergent, what is the limit?\n",
    "\n",
    "$$\n",
    "\\begin{aligned}\n",
    "a_n = & \\frac{1}{n} \\\\\n",
    "a_n = & 1 - (0.2)^n \\\\\n",
    "a_n = & \\frac{1}{2n+1}\n",
    "\\end{aligned}\n",
    "$$\n"
   ]
  },
  {
   "cell_type": "code",
   "execution_count": 12,
   "metadata": {},
   "outputs": [
    {
     "data": {
      "image/png": "[encoded data removed]",
      "text/latex": [
       "$\\displaystyle 0$"
      ],
      "text/plain": [
       "0"
      ]
     },
     "execution_count": 12,
     "metadata": {},
     "output_type": "execute_result"
    }
   ],
   "source": [
    "a2 = sp.SeqFormula(1/n, (n,1,5))\n",
    "list(a2)\n",
    "sp.limit_seq(a2.formula, n)"
   ]
  },
  {
   "cell_type": "markdown",
   "metadata": {},
   "source": [
    "### Infinite Series\n",
    "----\n",
    "\n",
    "A series is the sum of a sequence.  An infinite series will converge if the partial sums of the series has a finite limit.  For example, examine the partial sums of the series:\n",
    "\n",
    "$$\n",
    "\\sum^{\\infty}_{n=1} \\frac{1}{2^n}\n",
    "$$"
   ]
  },
  {
   "cell_type": "code",
   "execution_count": 27,
   "metadata": {},
   "outputs": [
    {
     "data": {
      "image/png": "[encoded data removed]",
      "text/latex": [
       "$\\displaystyle \\sum_{n=0}^{1} 2^{- n}$"
      ],
      "text/plain": [
       "  1      \n",
       " ___     \n",
       " ╲       \n",
       "  ╲    -n\n",
       "  ╱   2  \n",
       " ╱       \n",
       " ‾‾‾     \n",
       "n = 0    "
      ]
     },
     "execution_count": 27,
     "metadata": {},
     "output_type": "execute_result"
    }
   ],
   "source": [
    "a2 = sp.Sum(1/2**n, (n,0,1))\n",
    "a2"
   ]
  },
  {
   "cell_type": "code",
   "execution_count": 28,
   "metadata": {},
   "outputs": [
    {
     "data": {
      "image/png": "[encoded data removed]",
      "text/latex": [
       "$\\displaystyle \\frac{3}{2}$"
      ],
      "text/plain": [
       "3/2"
      ]
     },
     "execution_count": 28,
     "metadata": {},
     "output_type": "execute_result"
    }
   ],
   "source": [
    "a2.doit()"
   ]
  },
  {
   "cell_type": "code",
   "execution_count": 29,
   "metadata": {
    "scrolled": true
   },
   "outputs": [
    {
     "data": {
      "image/png": "[encoded data removed]",
      "text/latex": [
       "$\\displaystyle \\sum_{n=0}^{5} n^{2}$"
      ],
      "text/plain": [
       "  5     \n",
       " ___    \n",
       " ╲      \n",
       "  ╲    2\n",
       "  ╱   n \n",
       " ╱      \n",
       " ‾‾‾    \n",
       "n = 0   "
      ]
     },
     "execution_count": 29,
     "metadata": {},
     "output_type": "execute_result"
    }
   ],
   "source": [
    "a4 = sp.Sum(n**2, (n,0,5))\n",
    "a4"
   ]
  },
  {
   "cell_type": "code",
   "execution_count": 19,
   "metadata": {
    "scrolled": true
   },
   "outputs": [
    {
     "data": {
      "image/png": "[encoded data removed]",
      "text/latex": [
       "$\\displaystyle \\sum_{k=1}^{m} k^{2}$"
      ],
      "text/plain": [
       "  m     \n",
       " ___    \n",
       " ╲      \n",
       "  ╲    2\n",
       "  ╱   k \n",
       " ╱      \n",
       " ‾‾‾    \n",
       "k = 1   "
      ]
     },
     "execution_count": 19,
     "metadata": {},
     "output_type": "execute_result"
    }
   ],
   "source": [
    "a5 = sp.Sum(k**2, (k, 1, m))\n",
    "a5"
   ]
  },
  {
   "cell_type": "code",
   "execution_count": 20,
   "metadata": {},
   "outputs": [
    {
     "data": {
      "image/png": "[encoded data removed]",
      "text/latex": [
       "$\\displaystyle 55$"
      ],
      "text/plain": [
       "55"
      ]
     },
     "execution_count": 20,
     "metadata": {},
     "output_type": "execute_result"
    }
   ],
   "source": [
    "a4.doit()"
   ]
  },
  {
   "cell_type": "code",
   "execution_count": 21,
   "metadata": {},
   "outputs": [
    {
     "data": {
      "image/png": "[encoded data removed]",
      "text/latex": [
       "$\\displaystyle \\frac{m^{3}}{3} + \\frac{m^{2}}{2} + \\frac{m}{6}$"
      ],
      "text/plain": [
       " 3    2    \n",
       "m    m    m\n",
       "── + ── + ─\n",
       "3    2    6"
      ]
     },
     "execution_count": 21,
     "metadata": {},
     "output_type": "execute_result"
    }
   ],
   "source": [
    "a5.doit()"
   ]
  },
  {
   "cell_type": "markdown",
   "metadata": {},
   "source": [
    "A power series is of the form:\n",
    "\n",
    "$$\n",
    "\\sum_{n=0}^{\\infty} M_{n} x^{n} = M_0 + M_1 x + M_2 x^2 + \\cdots\n",
    "$$\n"
   ]
  },
  {
   "cell_type": "code",
   "execution_count": 22,
   "metadata": {},
   "outputs": [],
   "source": [
    "M = sp.IndexedBase('M')"
   ]
  },
  {
   "cell_type": "code",
   "execution_count": 23,
   "metadata": {},
   "outputs": [
    {
     "data": {
      "image/png": "[encoded data removed]",
      "text/latex": [
       "$\\displaystyle \\sum_{n=0}^{m} x^{n} {M}_{n}$"
      ],
      "text/plain": [
       "  m          \n",
       " ___         \n",
       " ╲           \n",
       "  ╲    n     \n",
       "  ╱   x ⋅M[n]\n",
       " ╱           \n",
       " ‾‾‾         \n",
       "n = 0        "
      ]
     },
     "execution_count": 23,
     "metadata": {},
     "output_type": "execute_result"
    }
   ],
   "source": [
    "sp.Sum(M[n]*x**n, (n,0,m))"
   ]
  },
  {
   "cell_type": "markdown",
   "metadata": {},
   "source": [
    "We can define the series about the point $a$ as follows:"
   ]
  },
  {
   "cell_type": "code",
   "execution_count": 24,
   "metadata": {},
   "outputs": [
    {
     "data": {
      "image/png": "[encoded data removed]",
      "text/latex": [
       "$\\displaystyle \\sum_{n=0}^{m} \\left(- a + x\\right)^{n} {M}_{n}$"
      ],
      "text/plain": [
       "  m                 \n",
       " ___                \n",
       " ╲                  \n",
       "  ╲           n     \n",
       "  ╱   (-a + x) ⋅M[n]\n",
       " ╱                  \n",
       " ‾‾‾                \n",
       "n = 0               "
      ]
     },
     "execution_count": 24,
     "metadata": {},
     "output_type": "execute_result"
    }
   ],
   "source": [
    "sp.Sum(M[n]*(x-a)**n, (n,0,m))"
   ]
  },
  {
   "cell_type": "markdown",
   "metadata": {},
   "source": [
    "SymPy has a function that can take SymPy expressions and represent them as power series:"
   ]
  },
  {
   "cell_type": "code",
   "execution_count": 30,
   "metadata": {},
   "outputs": [
    {
     "data": {
      "text/latex": [
       "$\\displaystyle f{\\left(0 \\right)} + x \\left. \\frac{d}{d x} f{\\left(x \\right)} \\right|_{\\substack{ x=0 }} + \\frac{x^{2} \\left. \\frac{d^{2}}{d x^{2}} f{\\left(x \\right)} \\right|_{\\substack{ x=0 }}}{2} + \\frac{x^{3} \\left. \\frac{d^{3}}{d x^{3}} f{\\left(x \\right)} \\right|_{\\substack{ x=0 }}}{6} + \\frac{x^{4} \\left. \\frac{d^{4}}{d x^{4}} f{\\left(x \\right)} \\right|_{\\substack{ x=0 }}}{24} + \\frac{x^{5} \\left. \\frac{d^{5}}{d x^{5}} f{\\left(x \\right)} \\right|_{\\substack{ x=0 }}}{120} + O\\left(x^{6}\\right)$"
      ],
      "text/plain": [
       "                             ⎛  2      ⎞│         ⎛  3      ⎞│         ⎛  4   \n",
       "                           2 ⎜ d       ⎟│       3 ⎜ d       ⎟│       4 ⎜ d    \n",
       "                          x ⋅⎜───(f(x))⎟│      x ⋅⎜───(f(x))⎟│      x ⋅⎜───(f(\n",
       "                             ⎜  2      ⎟│         ⎜  3      ⎟│         ⎜  4   \n",
       "         ⎛d       ⎞│         ⎝dx       ⎠│x=0      ⎝dx       ⎠│x=0      ⎝dx    \n",
       "f(0) + x⋅⎜──(f(x))⎟│    + ────────────────── + ────────────────── + ──────────\n",
       "         ⎝dx      ⎠│x=0           2                    6                    24\n",
       "\n",
       "   ⎞│         ⎛  5      ⎞│           \n",
       "   ⎟│       5 ⎜ d       ⎟│           \n",
       "x))⎟│      x ⋅⎜───(f(x))⎟│           \n",
       "   ⎟│         ⎜  5      ⎟│           \n",
       "   ⎠│x=0      ⎝dx       ⎠│x=0    ⎛ 6⎞\n",
       "──────── + ────────────────── + O⎝x ⎠\n",
       "                  120                "
      ]
     },
     "execution_count": 30,
     "metadata": {},
     "output_type": "execute_result"
    }
   ],
   "source": [
    "sp.series(f(x), x, x0=0)"
   ]
  },
  {
   "cell_type": "markdown",
   "metadata": {},
   "source": [
    "### DIY:  Use SymPy to determine series approximations to $e^x$, $sin(x)$, and $cos(x)$ about the point $x=0$.\n",
    "\n",
    "$$\n",
    "\\begin{aligned}\n",
    "a_n = & \\frac{1}{n} \\\\\n",
    "a_n = & 1 - (0.2)^n \\\\\n",
    "a_n = & \\frac{1}{2n+1}\n",
    "\\end{aligned}\n",
    "$$\n"
   ]
  },
  {
   "cell_type": "code",
   "execution_count": 38,
   "metadata": {},
   "outputs": [],
   "source": [
    "# Your code here."
   ]
  },
  {
   "cell_type": "markdown",
   "metadata": {},
   "source": [
    "### Taylor's Series\n",
    "----\n",
    "\n",
    "Below we present a derivation of Taylor's series and small algebraic argument for series representations of functions.  In contrast to the ability to use `sympy` functions without any deeper understanding, these presentations are intended to give you insight into the origin of the series representation and the factors present within each term.  While the algebraic presentation isn't a general case, the essential elements of a general polynomial representation are visible.\n",
    "\n",
    "The function $f(x)$ can be expanded into an infinite series or a finite series plus an error term.  Assume that the function has a continuous nth derivative over the interval $a \\le x \\le b$.  Integrate the nth derivative n times:\n",
    "\n",
    "$$\\int_a^x f^n(x) dx = f^{(n-1)}(x) - f^{(n-1)}(a)$$\n",
    "\n",
    "The power on the function $f$ in the equation above indicates the order of the derivative.  Do this n times and then solve for f(x) to recover Taylor's series.  One of the key features in this derivation is that the integral is definite.  This derivation is outlined on [Wolfram’s Mathworld](http://mathworld.wolfram.com/TaylorSeries.html).\n",
    "\n",
    "As a second exercise, assume that we wish to expand sin(x) about x=0.  First, assume that the series exists and can be written as a power series with unknown coefficients.  As a first step, differentiate the series and the function we are expanding.  Next, let the value of x go to the value of the expansion point and it will be possible to evaluate the coefficients in turn:"
   ]
  },
  {
   "cell_type": "markdown",
   "metadata": {},
   "source": [
    "$$\n",
    "\\sin x = A+Bx+Cx^2+Dx^3+Ex^4\n",
    "$$\n",
    "\n",
    "We can choose an expansion point (e.g. $x = 0$) and differentiate to get a set of simultaneous equations permitting determination of the coefficients.  The computer algebra system can help us with this activity:"
   ]
  },
  {
   "cell_type": "code",
   "execution_count": 39,
   "metadata": {},
   "outputs": [],
   "source": [
    "import sympy as sp\n",
    "sp.init_printing()\n",
    "\n",
    "x, A, B, C, D, E = sp.symbols('x, A, B, C, D, E')"
   ]
  },
  {
   "cell_type": "markdown",
   "metadata": {},
   "source": [
    "To help us get our work done we can use `sympy`'s `diff` function.  Testing this function with a known result, we can write:"
   ]
  },
  {
   "cell_type": "code",
   "execution_count": null,
   "metadata": {},
   "outputs": [],
   "source": [
    "sp.diff(sp.sin(x),x)"
   ]
  },
  {
   "cell_type": "markdown",
   "metadata": {},
   "source": [
    "A list comprehension is used to organize the results.  In each iteration the exact function and the power series are differentiated and stored as an element of a list.  The list can be inspected and a set of simultaneous equations can be written down and solved to determine the values of the coefficients.  Casting the list as a `sympy` `Matrix` object clarifies the correspondance between entries in the list."
   ]
  },
  {
   "cell_type": "code",
   "execution_count": 41,
   "metadata": {},
   "outputs": [
    {
     "data": {
      "image/png": "[encoded data removed]",
      "text/latex": [
       "$\\displaystyle \\left[ \\cos{\\left(x \\right)}, \\  B + 2 C x + 3 D x^{2} + 4 E x^{3}\\right]$"
      ],
      "text/plain": [
       "⎡                         2        3⎤\n",
       "⎣cos(x), B + 2⋅C⋅x + 3⋅D⋅x  + 4⋅E⋅x ⎦"
      ]
     },
     "execution_count": 41,
     "metadata": {},
     "output_type": "execute_result"
    }
   ],
   "source": [
    "orderOfDifferentiation = 1\n",
    "powerSeries = A+B*x+C*x**2+D*x**3+E*x**4\n",
    "# Differentiate, element by element, the list [sp.sin(x),powerSeries]\n",
    "[sp.diff(a,x,orderOfDifferentiation) for a in [sp.sin(x),powerSeries]]"
   ]
  },
  {
   "cell_type": "markdown",
   "metadata": {},
   "source": [
    "A list comprehension can be used to organize and extend the results further.  We can wrap the list above into another list that changes the order of differentiation each iteration."
   ]
  },
  {
   "cell_type": "code",
   "execution_count": 42,
   "metadata": {},
   "outputs": [
    {
     "data": {
      "image/png": "[encoded data removed]",
      "text/latex": [
       "$\\displaystyle \\left[ \\left[ \\sin{\\left(x \\right)}, \\  A + B x + C x^{2} + D x^{3} + E x^{4}\\right], \\  \\left[ \\cos{\\left(x \\right)}, \\  B + 2 C x + 3 D x^{2} + 4 E x^{3}\\right], \\  \\left[ - \\sin{\\left(x \\right)}, \\  2 \\left(C + 3 D x + 6 E x^{2}\\right)\\right], \\  \\left[ - \\cos{\\left(x \\right)}, \\  6 \\left(D + 4 E x\\right)\\right], \\  \\left[ \\sin{\\left(x \\right)}, \\  24 E\\right]\\right]$"
      ],
      "text/plain": [
       "⎡⎡                     2      3      4⎤  ⎡                         2        3⎤\n",
       "⎣⎣sin(x), A + B⋅x + C⋅x  + D⋅x  + E⋅x ⎦, ⎣cos(x), B + 2⋅C⋅x + 3⋅D⋅x  + 4⋅E⋅x ⎦\n",
       "\n",
       "  ⎡           ⎛                 2⎞⎤                                          ⎤\n",
       ", ⎣-sin(x), 2⋅⎝C + 3⋅D⋅x + 6⋅E⋅x ⎠⎦, [-cos(x), 6⋅(D + 4⋅E⋅x)], [sin(x), 24⋅E]⎦"
      ]
     },
     "execution_count": 42,
     "metadata": {},
     "output_type": "execute_result"
    }
   ],
   "source": [
    "maximumOrder = 5\n",
    "funcAndSeries = [[sp.diff(a,x,order) for a in [sp.sin(x),powerSeries]] for order in range(maximumOrder)]\n",
    "funcAndSeries"
   ]
  },
  {
   "cell_type": "markdown",
   "metadata": {},
   "source": [
    "Casting the results as a `sympy` `Matrix` object the list is more easily viewed in the Jupyter notebook:"
   ]
  },
  {
   "cell_type": "code",
   "execution_count": 43,
   "metadata": {
    "scrolled": true
   },
   "outputs": [
    {
     "data": {
      "text/latex": [
       "$\\displaystyle \\left[\\begin{matrix}\\sin{\\left(x \\right)} & A + B x + C x^{2} + D x^{3} + E x^{4}\\\\\\cos{\\left(x \\right)} & B + 2 C x + 3 D x^{2} + 4 E x^{3}\\\\- \\sin{\\left(x \\right)} & 2 \\left(C + 3 D x + 6 E x^{2}\\right)\\\\- \\cos{\\left(x \\right)} & 6 \\left(D + 4 E x\\right)\\\\\\sin{\\left(x \\right)} & 24 E\\end{matrix}\\right]$"
      ],
      "text/plain": [
       "⎡                      2      3      4⎤\n",
       "⎢sin(x)   A + B⋅x + C⋅x  + D⋅x  + E⋅x ⎥\n",
       "⎢                                     ⎥\n",
       "⎢                          2        3 ⎥\n",
       "⎢cos(x)   B + 2⋅C⋅x + 3⋅D⋅x  + 4⋅E⋅x  ⎥\n",
       "⎢                                     ⎥\n",
       "⎢              ⎛                 2⎞   ⎥\n",
       "⎢-sin(x)     2⋅⎝C + 3⋅D⋅x + 6⋅E⋅x ⎠   ⎥\n",
       "⎢                                     ⎥\n",
       "⎢-cos(x)         6⋅(D + 4⋅E⋅x)        ⎥\n",
       "⎢                                     ⎥\n",
       "⎣sin(x)               24⋅E            ⎦"
      ]
     },
     "execution_count": 43,
     "metadata": {},
     "output_type": "execute_result"
    }
   ],
   "source": [
    "sp.Matrix(funcAndSeries)"
   ]
  },
  {
   "cell_type": "markdown",
   "metadata": {},
   "source": [
    "### DIY:  Determine the coefficients in the above power series.\n",
    "----\n",
    "\n",
    "You don't necessarily need to write code to complete this DIY problem.\n"
   ]
  },
  {
   "cell_type": "code",
   "execution_count": null,
   "metadata": {},
   "outputs": [],
   "source": [
    "# Your code here if you feel you need it."
   ]
  },
  {
   "cell_type": "markdown",
   "metadata": {
    "collapsed": true
   },
   "source": [
    "`Your markdown here.`\n",
    "a0+a1+a2+a3+a4+a5\n",
    "a2=a5\n",
    "2C+ 6D x + 6Ex^2"
   ]
  },
  {
   "cell_type": "markdown",
   "metadata": {},
   "source": [
    "### Computing a Taylor's Series Symbolically\n",
    "---\n",
    "\n",
    "Using `sympy` the Taylor's series can be computed symbolically."
   ]
  },
  {
   "cell_type": "code",
   "execution_count": null,
   "metadata": {},
   "outputs": [],
   "source": [
    "from sympy import init_printing, symbols, Function\n",
    "init_printing()\n",
    "\n",
    "x, c = symbols(\"x,c\")\n",
    "f = Function(\"f\")\n",
    "\n",
    "f(x).series(x, x0=c, n=3)"
   ]
  },
  {
   "cell_type": "markdown",
   "metadata": {},
   "source": [
    "One of the major uses of Taylor's series in computation is for the evaluation of derivatives.  Take note of the fact that the derivatives of a function appear in the evaluation of the series."
   ]
  },
  {
   "cell_type": "markdown",
   "metadata": {},
   "source": [
    "### Computing Derivatives of Discrete Data\n",
    "6/25/20\n",
    "---\n",
    "\n",
    "It may be straightforward to compute the derivative of some functions.  For example:\n",
    "\n",
    "$$f(x) = x^2$$\n",
    "$$f'(x) = 2x$$\n",
    "\n",
    "In numerical computing situations there is no analytical solution to the problem being solved and therefore no function to integrate or differentiate.  The approximate solution is available as a list of discrete points in the domain of the problem's independent variables (e.g. space, time).  The values could be represented as a list of numbers:\n",
    "\n",
    "$$\\{f(x_0), f(x_1), f(x_2), ...\\}$$\n",
    "\n",
    "The neighboring points $f(x_0)$ and $f(x_1)$ are seperated by a distance $\\Delta x = x_1 - x_0$ in the independent variable.  Although this will not be apparent from the values, it is implicit in the structure of the data.  Taylor's series can be used to compute approximate derivatives of the unknown function directly from the list of points in this situation.  We are going to compute a series expansion for an unknown function $f(x)$ in the vicinity of the point $c$ and then examine the relationship between that function and it's derivative quantities at a point $c\\pm h$.  \n",
    "\n",
    "The goal of the activity is to see if we can find expressions for the derivatives using the data point of interest ($c$) and its neighbors ($c \\pm h$).  We are going to use the idea of _forward_ and _backward_ differences.\n",
    "\n",
    "1. Forward differences are computed by expanding an unknown function in a Taylor series about a point “x=c” and then letting x go to c+h.\n",
    "1. Then, for backward differences, let x go to c-h."
   ]
  },
  {
   "cell_type": "markdown",
   "metadata": {},
   "source": [
    "### Symbolically Computing Forward and Backward Differences\n",
    "---"
   ]
  },
  {
   "cell_type": "markdown",
   "metadata": {},
   "source": [
    "In the figure below we indicate the following:\n",
    "\n",
    "* the unknown function $f(x)$ as a dashed line\n",
    "* the point about which the unknown function is expanded at $x=c$\n",
    "* the distance between successive points is shown as $h$\n",
    "* the approximate values of the function given at the filled squares"
   ]
  },
  {
   "cell_type": "markdown",
   "metadata": {},
   "source": [
    "![Approximation](./images/derivative.png)"
   ]
  },
  {
   "cell_type": "markdown",
   "metadata": {},
   "source": [
    "Imagine that we take the above series expansion and use it to compute the value of the function near the point $c$.  Let us evaluate this series by adding and subtracting to the independent varable the quantity $h$.  To accomplish this we write down the series expansion for our function about the point $c$, then we let the independent variable $x \\rightarrow c+h$ and $c-h$."
   ]
  },
  {
   "cell_type": "code",
   "execution_count": 1,
   "metadata": {},
   "outputs": [],
   "source": [
    "import sympy as sp\n",
    "x, h, c = sp.symbols(\"x,h,c\")\n",
    "f = sp.Function(\"f\")\n",
    "\n",
    "# the .subs() method replaces occurences of 'x' with somethine else\n",
    "taylorExpansionPlus = f(x).series(x, x0=c, n=3).removeO().subs(x,c+h)\n",
    "\n",
    "taylorExpansionMinus = f(x).series(x, x0=c, n=3).removeO().subs(x,c-h)"
   ]
  },
  {
   "cell_type": "code",
   "execution_count": 2,
   "metadata": {
    "scrolled": true
   },
   "outputs": [
    {
     "data": {
      "text/latex": [
       "$\\displaystyle \\frac{h^{2} \\left. \\frac{d^{2}}{d \\xi_{1}^{2}} f{\\left(\\xi_{1} \\right)} \\right|_{\\substack{ \\xi_{1}=c }}}{2} + h \\left. \\frac{d}{d \\xi_{1}} f{\\left(\\xi_{1} \\right)} \\right|_{\\substack{ \\xi_{1}=c }} + f{\\left(c \\right)}$"
      ],
      "text/plain": [
       "h**2*Subs(Derivative(f(_xi_1), (_xi_1, 2)), _xi_1, c)/2 + h*Subs(Derivative(f(_xi_1), _xi_1), _xi_1, c) + f(c)"
      ]
     },
     "execution_count": 2,
     "metadata": {},
     "output_type": "execute_result"
    }
   ],
   "source": [
    "taylorExpansionPlus"
   ]
  },
  {
   "cell_type": "markdown",
   "metadata": {},
   "source": [
    "Meaning that:\n",
    "\n",
    "$$\n",
    "f(c+h) = \\frac{h^{2}}{2} \\left. \\frac{d^{2}}{d \\xi_{1}^{2}}  f{\\left (\\xi_{1} \\right )} \\right|_{\\substack{ \\xi_{1}=c }} + h \\left. \\frac{d}{d \\xi_{1}} f{\\left (\\xi_{1} \\right )} \\right|_{\\substack{ \\xi_{1}=c }} + f{\\left (c \\right )}\n",
    "$$"
   ]
  },
  {
   "cell_type": "code",
   "execution_count": 3,
   "metadata": {},
   "outputs": [
    {
     "data": {
      "text/latex": [
       "$\\displaystyle \\frac{h^{2} \\left. \\frac{d^{2}}{d \\xi_{1}^{2}} f{\\left(\\xi_{1} \\right)} \\right|_{\\substack{ \\xi_{1}=c }}}{2} - h \\left. \\frac{d}{d \\xi_{1}} f{\\left(\\xi_{1} \\right)} \\right|_{\\substack{ \\xi_{1}=c }} + f{\\left(c \\right)}$"
      ],
      "text/plain": [
       "h**2*Subs(Derivative(f(_xi_1), (_xi_1, 2)), _xi_1, c)/2 - h*Subs(Derivative(f(_xi_1), _xi_1), _xi_1, c) + f(c)"
      ]
     },
     "execution_count": 3,
     "metadata": {},
     "output_type": "execute_result"
    }
   ],
   "source": [
    "taylorExpansionMinus"
   ]
  },
  {
   "cell_type": "markdown",
   "metadata": {},
   "source": [
    "Meaning that:\n",
    "\n",
    "$$\n",
    "f(c-h) = \\frac{h^{2}}{2} \\left. \\frac{d^{2}}{d \\xi_{1}^{2}}  f{\\left (\\xi_{1} \\right )} \\right|_{\\substack{ \\xi_{1}=c }} - h \\left. \\frac{d}{d \\xi_{1}} f{\\left (\\xi_{1} \\right )} \\right|_{\\substack{ \\xi_{1}=c }} + f{\\left (c \\right )}\n",
    "$$"
   ]
  },
  {
   "cell_type": "markdown",
   "metadata": {},
   "source": [
    "### Solving for First and Second Derivatives\n",
    "----\n",
    "\n",
    "Inspection of the results shows that the signs on the terms containing the first derivative are different between the two expressions.  We can use this to our advantage in solving for the derivative terms explicitly.  Note that each grouped expression is equal to zero as is the default in `sympy`."
   ]
  },
  {
   "cell_type": "markdown",
   "metadata": {},
   "source": [
    "_Find the first derivative in this expression:_"
   ]
  },
  {
   "cell_type": "code",
   "execution_count": 4,
   "metadata": {},
   "outputs": [
    {
     "data": {
      "text/latex": [
       "$\\displaystyle - 2 h \\left. \\frac{d}{d \\xi_{1}} f{\\left(\\xi_{1} \\right)} \\right|_{\\substack{ \\xi_{1}=c }} - f{\\left(c - h \\right)} + f{\\left(c + h \\right)}$"
      ],
      "text/plain": [
       "-2*h*Subs(Derivative(f(_xi_1), _xi_1), _xi_1, c) - f(c - h) + f(c + h)"
      ]
     },
     "execution_count": 4,
     "metadata": {},
     "output_type": "execute_result"
    }
   ],
   "source": [
    "(taylorExpansionMinus-f(c-h))-(taylorExpansionPlus-f(c+h))"
   ]
  },
  {
   "cell_type": "markdown",
   "metadata": {},
   "source": [
    "Remember that `sympy` expressions are zero by default.  So this is true:\n",
    "\n",
    "$$\n",
    "- 2 h \\left. \\frac{d}{d \\xi_{1}} f{\\left (\\xi_{1} \\right )} \\right|_{\\substack{ \\xi_{1}=c }} - f{\\left (c - h \\right )} + f{\\left (c + h \\right )} = 0\n",
    "$$"
   ]
  },
  {
   "cell_type": "markdown",
   "metadata": {},
   "source": [
    "_Find the second derivative in this expression:_"
   ]
  },
  {
   "cell_type": "code",
   "execution_count": null,
   "metadata": {},
   "outputs": [],
   "source": [
    "(taylorExpansionMinus-f(c-h))+(taylorExpansionPlus-f(c+h))"
   ]
  },
  {
   "cell_type": "markdown",
   "metadata": {},
   "source": [
    "Similarly:\n",
    "\n",
    "$$\n",
    "h^{2} \\left. \\frac{d^{2}}{d \\xi_{1}^{2}}  f{\\left (\\xi_{1} \\right )} \\right|_{\\substack{ \\xi_{1}=c }} + 2 f{\\left (c \\right )} - f{\\left (c - h \\right )} - f{\\left (c + h \\right )} = 0\n",
    "$$"
   ]
  },
  {
   "cell_type": "markdown",
   "metadata": {},
   "source": [
    "Solve each of the equations above for the derivative quantites and you will have recovered the formula for discrete derivatives."
   ]
  },
  {
   "cell_type": "markdown",
   "metadata": {},
   "source": [
    "### DIY:  Compute Numerical Derivatives\n",
    "\n",
    "Generate a list of values that approximate the function $f(x)=x^8$ on the domain $\\{x | 0 \\leq x \\leq 1\\}$.  Using these values, numerically compute the derivative at your selected grid points and compare it to the analytical solution.  Using this technique, examine how the observed error changes as the number of grid points is varied.  Visualize and explain the results."
   ]
  },
  {
   "cell_type": "markdown",
   "metadata": {},
   "source": [
    "### Challenge DIY:  Vectorized Computations\n",
    "\n",
    "A _list_ is one of the fundamental data structures within Python.  Numpy (a Python library) and other parts of Python libraries use _vectorized_ computations.  From Wikipedia, vectorization is \"a style of computer programming where operations are applied to whole arrays instead of individual elements.\"  \n",
    "\n",
    "With this in mind, we certainly _can_ iterate over our list of points and apply the function that you will soon write in an element by element fashion, however, it is a more common practice in Python and other modern languages to write vectorized code.  If this is your first exposure to vectorized computation, I recommend two initial strategies:  write out your algorithms and use \"classic\" flow control and iteration to compute the results.  From that point you will more easily see the strategy you should use to write vectorized code.  \n",
    "\n",
    "Using the discrete forms of the first and second derivatives (based on central differences) can you devise a vectorized operation that computes the derivative without looping in Python?"
   ]
  }
 ],
 "metadata": {
  "anaconda-cloud": {},
  "kernelspec": {
   "display_name": "Python 3",
   "language": "python",
   "name": "python3"
  },
  "language_info": {
   "codemirror_mode": {
    "name": "ipython",
    "version": 3
   },
   "file_extension": ".py",
   "mimetype": "text/x-python",
   "name": "python",
   "nbconvert_exporter": "python",
   "pygments_lexer": "ipython3",
   "version": "3.7.6"
  }
 },
 "nbformat": 4,
 "nbformat_minor": 1
}
