{
 "cells": [
  {
   "cell_type": "code",
   "execution_count": null,
   "metadata": {
    "collapsed": true
   },
   "outputs": [],
   "source": [
    "import numpy as np"
   ]
  },
  {
   "cell_type": "markdown",
   "metadata": {},
   "source": [
    "A simple function with dependence on only one independent variable might be written to a file like this:"
   ]
  },
  {
   "cell_type": "code",
   "execution_count": null,
   "metadata": {},
   "outputs": [],
   "source": [
    "x1 = np.linspace(0, 10, 9)\n",
    "y1 = x1**2\n",
    "np.savetxt('test_data_001.txt', (x1,y1))"
   ]
  },
  {
   "cell_type": "markdown",
   "metadata": {},
   "source": [
    "or like this:"
   ]
  },
  {
   "cell_type": "code",
   "execution_count": null,
   "metadata": {},
   "outputs": [],
   "source": [
    "x2 = np.linspace(0, 1, 100)\n",
    "y2 = np.exp(x)\n",
    "np.savetxt('test_data_002.txt', (x2,y2))"
   ]
  },
  {
   "cell_type": "markdown",
   "metadata": {},
   "source": [
    "Note the use of `np.linspace` to give you uniform grid spacing for your data points."
   ]
  },
  {
   "cell_type": "markdown",
   "metadata": {},
   "source": [
    "Making two dimensional data is a bit more involved.  In the case below we create a set of $(x,y)$ pairs and then use `np.meshgrid` to facilitate vectorizing the calculation of the value stored in `z3`.  For this function we use the discrete values of `X` and `Y` to compute the quantity:\n",
    "\n",
    "$$\\sin(X) \\cos(Y)^2$$\n",
    "\n",
    "We store this in `z3` and write to a file."
   ]
  },
  {
   "cell_type": "code",
   "execution_count": null,
   "metadata": {},
   "outputs": [],
   "source": [
    "x3 = np.linspace(0, 10, 100)\n",
    "y3 = np.linspace(0, 10, 100)\n",
    "X, Y = np.meshgrid(x3, y3)\n",
    "z3 = np.sin(X)**2*np.cos(Y)**2\n",
    "np.savetxt('test_data_003.txt', (z3))"
   ]
  },
  {
   "cell_type": "markdown",
   "metadata": {},
   "source": [
    "The benefit in using the `np.savetxt` function is that you can use the inverse `np.loadtxt` easily.  Here we load the test data file back into a variable `testZ` and pass that array to an image."
   ]
  },
  {
   "cell_type": "code",
   "execution_count": null,
   "metadata": {},
   "outputs": [],
   "source": [
    "%matplotlib notebook\n",
    "\n",
    "import matplotlib.pyplot as plt\n",
    "from matplotlib import cm\n",
    "\n",
    "testZ = np.loadtxt('test_data_003.txt')\n",
    "\n",
    "# Make plot with vertical (default) colorbar\n",
    "fig, ax = plt.subplots()\n",
    "cax = ax.imshow(testZ, interpolation='nearest', cmap=cm.coolwarm)\n",
    "ax.set_title('Scalar Field')\n",
    "\n",
    "plt.show()"
   ]
  },
  {
   "cell_type": "markdown",
   "metadata": {},
   "source": [
    "When I refer to the idea of \"creating your own data\" for use with numerical routines, the above is what I'm thinking."
   ]
  }
 ],
 "metadata": {
  "kernelspec": {
   "display_name": "Python 3",
   "language": "python",
   "name": "python3"
  },
  "language_info": {
   "codemirror_mode": {
    "name": "ipython",
    "version": 3
   },
   "file_extension": ".py",
   "mimetype": "text/x-python",
   "name": "python",
   "nbconvert_exporter": "python",
   "pygments_lexer": "ipython3",
   "version": "3.7.6"
  }
 },
 "nbformat": 4,
 "nbformat_minor": 1
}
